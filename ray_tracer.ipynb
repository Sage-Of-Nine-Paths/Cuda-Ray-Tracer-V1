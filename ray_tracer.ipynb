import numpy as np
import cupy as cp
import pycuda.driver as cuda
import pycuda.autoinit
from pycuda.compiler import SourceModule
import matplotlib.pyplot as plt
from ipywidgets import interactive

class Vec3:
    def __init__(self, x=0, y=0, z=0):
        self.x, self.y, self.z = x, y, z

    def to_array(self):
        return np.array([self.x, self.y, self.z])

    def __add__(self, other):
        return Vec3(self.x + other.x, self.y + other.y, self.z + other.z)

    def __sub__(self, other):
        return Vec3(self.x - other.x, self.y - other.y, self.z - other.z)

    def __mul__(self, scalar):
        return Vec3(self.x * scalar, self.y * scalar, self.z * scalar)

    def __truediv__(self, scalar):
        return Vec3(self.x / scalar, self.y / scalar, self.z / scalar)

    def dot(self, other):
        return self.x * other.x + self.y * other.y + self.z * other.z

    def normalize(self):
        len = np.sqrt(self.x * self.x + self.y * self.y + self.z * self.z)
        return self / len

class Sphere:
    def __init__(self, center, radius, color, material=0):
        self.center = center
        self.radius = radius
        self.color = color
        self.material = material  # New

    def to_array(self):
        return np.array([
            self.center.x, self.center.y, self.center.z,
            self.radius,
            self.color.x, self.color.y, self.color.z,
            self.material  # New
        ])

# Function to check if two spheres intersect and adjust their positions if necessary
def check_and_adjust_spheres(spheres):
    min_distance = 0.5  # minimum distance between centers of spheres
    for i in range(len(spheres)):
        for j in range(i + 1, len(spheres)):
            # Calculate the distance between the centers of the spheres
            dist = np.linalg.norm(np.array([spheres[i].center.x, spheres[i].center.y, spheres[i].center.z]) -
                                  np.array([spheres[j].center.x, spheres[j].center.y, spheres[j].center.z]))

            # If the spheres are too close, adjust their positions
            if dist < spheres[i].radius + spheres[j].radius:
                overlap = spheres[i].radius + spheres[j].radius - dist
                # Move spheres apart by a small amount
                direction = np.array([spheres[j].center.x - spheres[i].center.x,
                                      spheres[j].center.y - spheres[i].center.y,
                                      spheres[j].center.z - spheres[i].center.z])
                direction = direction / np.linalg.norm(direction)

                # Move each sphere apart by half the overlap distance
                spheres[i].center.x -= direction[0] * overlap / 2
                spheres[i].center.y -= direction[1] * overlap / 2
                spheres[i].center.z -= direction[2] * overlap / 2
                spheres[j].center.x += direction[0] * overlap / 2
                spheres[j].center.y += direction[1] * overlap / 2
                spheres[j].center.z += direction[2] * overlap / 2

# CUDA kernel code for rendering
kernel_code_with_shadows = """
#include <math.h>

struct Vec3 {
    float x, y, z;
    __device__ Vec3() : x(0), y(0), z(0) {}
    __device__ Vec3(float xx, float yy, float zz) : x(xx), y(yy), z(zz) {}
    __device__ Vec3 operator+(const Vec3& b) const { return Vec3(x + b.x, y + b.y, z + b.z); }
    __device__ Vec3 operator-(const Vec3& b) const { return Vec3(x - b.x, y - b.y, z - b.z); }
    __device__ Vec3 operator*(float b) const { return Vec3(x * b, y * b, z * b); }
    __device__ Vec3 operator/(float b) const { return Vec3(x / b, y / b, z / b); }
    __device__ float dot(const Vec3& b) const { return x * b.x + y * b.y + z * b.z; }
    __device__ Vec3 normalize() const {
        float len = sqrtf(x * x + y * y + z * z);
        return (*this) / len;
    }
};

// Utility functions
__device__ float fract(float x) {
    return x - floorf(x);
}

__device__ float pseudo_random(float x, float y, float z) {
    return fract(sinf(x * 12.9898f + y * 78.233f + z * 37.719f) * 43758.5453f);
}

__device__ float perlin_noise(float x, float y, float z) {
    float dot_prod = sinf(x * 1.0f) * cosf(y * 1.0f) * sinf(z * 1.0f);
    return dot_prod * 2.0f;
}

__device__ float voronoi_noise(float x, float y, float z) {
    int ix = int(floor(x));
    int iy = int(floor(y));
    int iz = int(floor(z));
    float min_dist = 99999.0f;

    for (int dx = -1; dx <= 1; ++dx)
        for (int dy = -1; dy <= 1; ++dy)
            for (int dz = -1; dz <= 1; ++dz) {
                float nx = ix + dx;
                float ny = iy + dy;
                float nz = iz + dz;
                float seed_val = pseudo_random(nx, ny, nz);
                float dist = sqrtf((x - nx)*(x - nx) + (y - ny)*(y - ny) + (z - nz)*(z - nz));
                min_dist = fminf(min_dist, dist + seed_val * 0.5f);
            }
    return min_dist * 1.5f;
}

__device__ float fbm(float x, float y, float z, int octaves, float persistence) {
    float amplitude = 2.0f;
    float frequency = 1.0f;
    float noise_value = 0.0f;
    for (int i = 0; i < octaves; ++i) {
        noise_value += amplitude * (perlin_noise(x * frequency, y * frequency, z * frequency) +
                                    voronoi_noise(x * frequency, y * frequency, z * frequency));
        amplitude *= persistence;
        frequency *= 2.0f;
    }
    return noise_value;
}

// Sphere hit test
__device__ bool hit_sphere(float* sphere, Vec3 ray_origin, Vec3 ray_dir, float* t_hit) {
    Vec3 center(sphere[0], sphere[1], sphere[2]);
    float radius = sphere[3];
    Vec3 oc = ray_origin - center;
    float a = ray_dir.dot(ray_dir);
    float b = 2.0f * oc.dot(ray_dir);
    float c = oc.dot(oc) - radius * radius;
    float discriminant = b * b - 4 * a * c;
    if (discriminant < 0) return false;
    else {
        *t_hit = (-b - sqrtf(discriminant)) / (2.0f * a);
        return (*t_hit > 0);
    }
}

// Check for shadows
__device__ bool is_in_shadow(float* spheres, Vec3 point, Vec3 light_pos, int num_spheres) {
    Vec3 dir_to_light = light_pos - point;
    float t_hit;
    for (int i = 0; i < num_spheres; ++i) {
        if (hit_sphere(&spheres[i * 8], point, dir_to_light.normalize(), &t_hit)) {
            if (t_hit > 0.001f && t_hit < sqrtf(dir_to_light.dot(dir_to_light))) {
                return true;
            }
        }
    }
    return false;
}

// Reflection calculation
__device__ Vec3 reflect(const Vec3& I, const Vec3& N) {
    return I - N * (2.0f * I.dot(N));
}

// Apply bump noise to color
__device__ void apply_noise_to_color(Vec3& color, float x, float y, float z) {
    float bump = fbm(x, y, z, 4, 0.5f);
    bump = fminf(fmaxf(bump, -0.3f), 0.3f);
    bump *= 2.0f;
    color = color * (1.0f + bump);
}

// Main rendering kernel
extern "C" __global__ void render(unsigned char* img, float* spheres, int num_spheres,
                                  int width, int height, float cam_x, float cam_y,
                                  float light_x, float light_y, float light_z) {
    int x = blockIdx.x * blockDim.x + threadIdx.x;
    int y = blockIdx.y * blockDim.y + threadIdx.y;
    if (x >= width || y >= height) return;

    int idx = (y * width + x) * 3;

    Vec3 origin(cam_x, cam_y, 0);
    float aspect = float(width) / height;
    float fov = 90.0f;
    float scale = tanf(fov * 0.5f * 3.14159265f / 180.0f);
    float px = (2 * ((x + 0.5f) / width) - 1) * aspect * scale;
    float py = (1 - 2 * ((y + 0.5f) / height)) * scale;
    Vec3 dir = Vec3(px, py, -1).normalize();

    float closest_t = 1e20;
    Vec3 final_color(0.5f, 0.7f, 1.0f); // default sky blue
    int hit_sphere_index = -1;
    Vec3 hit_point;

    Vec3 light_pos(light_x, light_y, light_z);

    for (int i = 0; i < num_spheres; ++i) {
        float t_hit;
        if (hit_sphere(&spheres[i * 8], origin, dir, &t_hit)) {
            if (t_hit < closest_t) {
                closest_t = t_hit;
                hit_sphere_index = i;
                hit_point = origin + dir * t_hit;
            }
        }
    }

    if (hit_sphere_index != -1) {
        float* sphere = &spheres[hit_sphere_index * 8];
        Vec3 base_color = Vec3(sphere[4], sphere[5], sphere[6]);
        int material = (int)sphere[7]; // sphere[7]: material id, 0 = diffuse, 1 = mirror

        Vec3 normal = (hit_point - Vec3(sphere[0], sphere[1], sphere[2])).normalize();

        if (material == 1) { // Mirror material
            Vec3 reflect_dir = reflect(dir, normal).normalize();
            // Add slight blur to reflection
            float blur_strength = 0.1f;
            reflect_dir = (reflect_dir + Vec3(
                pseudo_random(hit_point.x, hit_point.y, hit_point.z) * blur_strength,
                pseudo_random(hit_point.y, hit_point.z, hit_point.x) * blur_strength,
                pseudo_random(hit_point.z, hit_point.x, hit_point.y) * blur_strength
            )).normalize();

            // Trace reflection ray
            Vec3 reflect_color(0.5f, 0.7f, 1.0f); // Default reflection background

            float closest_reflect_t = 1e20;
            int reflected_sphere = -1;
            Vec3 reflect_hit_point;

            for (int j = 0; j < num_spheres; ++j) {
                float t_hit;
                if (hit_sphere(&spheres[j * 8], hit_point, reflect_dir, &t_hit)) {
                    if (t_hit < closest_reflect_t) {
                        closest_reflect_t = t_hit;
                        reflected_sphere = j;
                        reflect_hit_point = hit_point + reflect_dir * t_hit;
                    }
                }
            }

            if (reflected_sphere != -1) {
                float* sphere2 = &spheres[reflected_sphere * 8];
                reflect_color = Vec3(sphere2[4], sphere2[5], sphere2[6]);
                apply_noise_to_color(reflect_color, reflect_hit_point.x, reflect_hit_point.y, reflect_hit_point.z);
            }

            final_color = reflect_color;
        }
        else { // Diffuse material
            apply_noise_to_color(base_color, hit_point.x, hit_point.y, hit_point.z);
            if (is_in_shadow(spheres, hit_point, light_pos, num_spheres)) {
                final_color = base_color * 0.5f; // Darken if shadowed
            } else {
                final_color = base_color;
            }
        }
    }

    img[idx + 0] = (unsigned char)(fminf(final_color.x, 1.0f) * 255);
    img[idx + 1] = (unsigned char)(fminf(final_color.y, 1.0f) * 255);
    img[idx + 2] = (unsigned char)(fminf(final_color.z, 1.0f) * 255);
}

"""

# Compile the kernel
mod = SourceModule(kernel_code_with_shadows)
render_kernel = mod.get_function("render")

# Compile the kernel
mod = SourceModule(kernel_code_with_shadows)
render_kernel = mod.get_function("render")

# Function to generate the image
def generate_image(width, height, spheres, cam_x, cam_y, light_x, light_y, light_z, rot_x, rot_y, rot_z):
    # Apply rotation to the camera position (same logic as before)

    # Check and adjust spheres to avoid intersection
    check_and_adjust_spheres(spheres)

    img = cp.zeros((height, width, 3), dtype=cp.uint8)

    # Allocate memory for spheres on the GPU
    sphere_data = cp.zeros(len(spheres) * 8, dtype=cp.float32)

    for i, sphere in enumerate(spheres):
        sphere_data[i*8:i*8+8] = cp.asarray(sphere.to_array(), dtype=cp.float32)


    # Allocate memory for the image on the GPU
    img_gpu = cp.zeros_like(img)

    # Set block and grid dimensions
    block = (16, 16, 1)
    grid = ((width + block[0] - 1) // block[0], (height + block[1] - 1) // block[1])

    # Launch the kernel to render the image
    render_kernel(
        img_gpu, sphere_data, np.int32(len(spheres)), np.int32(width), np.int32(height),
        np.float32(cam_x), np.float32(cam_y), np.float32(light_x), np.float32(light_y), np.float32(light_z),
        block=block, grid=grid
    )

    # Transfer the result back from GPU
    img_cpu = cp.asnumpy(img_gpu)
    return img_cpu

# Define spheres with non-intersecting positions
spheres = [
    Sphere(Vec3(0, 0, -1), 0.5, Vec3(1, 0, 0)),  # Red sphere
    Sphere(Vec3(0, -0.5, -2), 0.5, Vec3(1, 1, 1), material=1),  # Mirror sphere, small size 0.3
    Sphere(Vec3(1, 0, -2), 0.5, Vec3(0, 1, 0)),  # Green sphere
    Sphere(Vec3(-1, 0, -3), 0.5, Vec3(0, 0, 1)),  # Blue sphere
    # Sphere(Vec3(0.5, 0, -1.5), 0.5, Vec3(1, 1, 0)),  # Yellow sphere
    # Sphere(Vec3(-0.5, 0, -2.5), 0.5, Vec3(0, 1, 1)),  # Cyan sphere
    # Sphere(Vec3(0.2, 0.5, -1.8), 0.5, Vec3(1, 0, 1)),  # Magenta sphere
    # Sphere(Vec3(-0.2, -0.5, -2), 0.5, Vec3(0.5, 0.5, 0)),  # Olive sphere
    # Sphere(Vec3(1.5, 0, -1.5), 0.5, Vec3(0.5, 0, 0.5)),  # Purple sphere
    # Sphere(Vec3(-1.5, 0, -2.2), 0.5, Vec3(0.2, 0.8, 0.2)),  # Light Green sphere
    # Sphere(Vec3(0, 0.5, -2), 0.5, Vec3(0.8, 0.8, 0.2)),  # Light Yellow sphere
]

# Set the dimensions of the image and the camera
width, height = 1200, 800
cam_x, cam_y = 0, 0

# Interactive widget to change camera and light position with rotation
def update_scene(cam_x=0, cam_y=0, light_x=3, light_y=3, light_z=-3, rot_x=0, rot_y=0, rot_z=0):
    img = generate_image(width, height, spheres, cam_x, cam_y, light_x, light_y, light_z, rot_x, rot_y, rot_z)
    plt.imshow(img)
    plt.axis('off')
    plt.show()

# Interactive widgets
interactive_plot = interactive(update_scene, cam_x=(-5, 5), cam_y=(-5, 5), light_x=(-5, 5), light_y=(-5, 5), light_z=(-5, 5),
                               rot_x=(-180, 180), rot_y=(-180, 180), rot_z=(-180, 180))
output = interactive_plot.children[-1]
output.layout.height = '1200px'
interactive_plot
